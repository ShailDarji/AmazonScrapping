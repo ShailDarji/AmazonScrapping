{
 "cells": [
  {
   "cell_type": "code",
   "execution_count": 1,
   "id": "4aa263d3",
   "metadata": {},
   "outputs": [
    {
     "name": "stdout",
     "output_type": "stream",
     "text": [
      "Collecting autoscraper\n",
      "  Downloading autoscraper-1.1.14-py3-none-any.whl (10 kB)\n",
      "Requirement already satisfied: requests in c:\\users\\shail darji\\appdata\\local\\programs\\python\\python311\\lib\\site-packages (from autoscraper) (2.28.2)\n",
      "Collecting bs4\n",
      "  Downloading bs4-0.0.1.tar.gz (1.1 kB)\n",
      "  Preparing metadata (setup.py): started\n",
      "  Preparing metadata (setup.py): finished with status 'done'\n",
      "Requirement already satisfied: lxml in c:\\users\\shail darji\\appdata\\local\\programs\\python\\python311\\lib\\site-packages (from autoscraper) (4.9.2)\n",
      "Requirement already satisfied: beautifulsoup4 in c:\\users\\shail darji\\appdata\\local\\programs\\python\\python311\\lib\\site-packages (from bs4->autoscraper) (4.11.1)\n",
      "Requirement already satisfied: charset-normalizer<4,>=2 in c:\\users\\shail darji\\appdata\\local\\programs\\python\\python311\\lib\\site-packages (from requests->autoscraper) (3.0.1)\n",
      "Requirement already satisfied: idna<4,>=2.5 in c:\\users\\shail darji\\appdata\\local\\programs\\python\\python311\\lib\\site-packages (from requests->autoscraper) (3.4)\n",
      "Requirement already satisfied: urllib3<1.27,>=1.21.1 in c:\\users\\shail darji\\appdata\\local\\programs\\python\\python311\\lib\\site-packages (from requests->autoscraper) (1.26.14)\n",
      "Requirement already satisfied: certifi>=2017.4.17 in c:\\users\\shail darji\\appdata\\local\\programs\\python\\python311\\lib\\site-packages (from requests->autoscraper) (2022.12.7)\n",
      "Requirement already satisfied: soupsieve>1.2 in c:\\users\\shail darji\\appdata\\local\\programs\\python\\python311\\lib\\site-packages (from beautifulsoup4->bs4->autoscraper) (2.3.2.post1)\n",
      "Installing collected packages: bs4, autoscraper\n",
      "  Running setup.py install for bs4: started\n",
      "  Running setup.py install for bs4: finished with status 'done'\n",
      "Successfully installed autoscraper-1.1.14 bs4-0.0.1\n"
     ]
    },
    {
     "name": "stderr",
     "output_type": "stream",
     "text": [
      "  DEPRECATION: bs4 is being installed using the legacy 'setup.py install' method, because it does not have a 'pyproject.toml' and the 'wheel' package is not installed. pip 23.1 will enforce this behaviour change. A possible replacement is to enable the '--use-pep517' option. Discussion can be found at https://github.com/pypa/pip/issues/8559\n"
     ]
    }
   ],
   "source": [
    "!pip install autoscraper"
   ]
  },
  {
   "cell_type": "code",
   "execution_count": 2,
   "id": "5a4e940d",
   "metadata": {},
   "outputs": [],
   "source": [
    "from autoscraper import AutoScraper"
   ]
  },
  {
   "cell_type": "code",
   "execution_count": 3,
   "id": "a10da748",
   "metadata": {},
   "outputs": [],
   "source": [
    "amazon_url=\"https://www.amazon.in/s?k=bags&crid=2M096C61O4MLT&qid=1653308124&sprefix=ba%2Caps%2C283&ref=sr_pg_1\"\n",
    "watched_list=[\"₹499\",\"ADISA 15.6 inch Laptop Backpack Office Bag College Travel Back Pack 32 Ltrs (z-Navy Blue)\",\"(463)\",\"3.9\"]"
   ]
  },
  {
   "cell_type": "code",
   "execution_count": 4,
   "id": "230950fd",
   "metadata": {},
   "outputs": [
    {
     "name": "stdout",
     "output_type": "stream",
     "text": [
      "['₹1,199', '₹2,300', '₹565', '₹499', '₹1,799', '₹669', '₹2,100', '₹1,247', '₹2,899', '₹699', '₹2,599', '₹889', '₹4,000', '₹349', '₹512', '₹1,499', '₹1,049', '₹1,999', '₹599', '₹2,010', '₹299', 'Best sellerin School Bags', 'American Tourister 32 Ltrs Black Casual Backpack (AMT FIZZ SCH BAG 02 - BLACK)', 'Amazon\\'s Choicefor \"bags\"', 'Wesley Milestone 2.0 Casual Waterproof Laptop Backpack/Office Bag/School Bag/College Bag/Business Bag/Travel Backpack (Dimensions:13x18 inches) (Compatible with 39.62cm(15.6inch laptop) 30 L (Blue & black)', 'ADISA 15.6 inch Laptop Backpack Office Bag College Travel Back Pack 32 Ltrs (z-Navy Blue)', 'Skybags Brat Black 46 Cms Casual Backpack', 'Gear Aspire 30L Water Restant Office Laptop Bag/Backpack for Men/Women/(Black)', 'Safari Flash Casual Backpack, 26 ltr Water Resistant Travel Bags| Weight Polyester Bagpack for Men and Women, Spacious Shoulder Bag for College, Office, Travelling and Camping', 'Fur Jaden Brown Textured Leatherette Stylish & Spacious Weekender Duffle Bag for Travel', 'Best sellerin Messenger & Sling Bags', \"DEIN KLEIDER Men's Nylon Messenger Bag\", 'Mi Step Out 12 L Mini Backpack (Small Size, Black, Water Repellant)', 'BennettTM Mystic Formal Business Briefcase Bag Crossbody Messenger College Bags For Men Women MacBook INoteBook ITablet Laptop Upto 15.6 Inch | Handbags with Shoulder Straps (Blue) 6 Months Warranty', 'AirCase Laptop Bag Backpack Case Pouch for Laptop Backpack for Men & Women,Premium Vegan Leather', 'Gear Classic 20L Faux Leather Water Resistant Anti Theft Laptop Bag/Backpack for Men/Women-Brown', 'ADISA Light Weight Laptop Backpack 32 Ltrs', 'Safari Spartan 21 Ltrs Water Resistant Backpack - Blue, S (SPARTAN19CBBLU)', 'ADISA Laptop Backpack 31 Ltrs', 'Mi Step Out 12 L Mini Backpack (Small Size, Dark Blue, Water Repellant)', 'Wesley Milestone 2.0 Casual Waterproof Laptop Backpack/Office Bag/School Bag/College Bag/Business Bag/Travel Backpack (Dim...', 'Safari Flash Casual Backpack, 26 ltr Water Resistant Travel Bags| Weight Polyester Bagpack for Men and Women, Spacious Sho...', 'BennettTM Mystic Formal Business Briefcase Bag Crossbody Messenger College Bags For Men Women MacBook INoteBook ITablet Lap...']\n"
     ]
    }
   ],
   "source": [
    "scraper = AutoScraper()\n",
    "result=scraper.build(amazon_url,watched_list)\n",
    "print(result)"
   ]
  },
  {
   "cell_type": "code",
   "execution_count": 5,
   "id": "9240d300",
   "metadata": {},
   "outputs": [
    {
     "data": {
      "text/plain": [
       "{'rule_3rmw': ['₹1,199',\n",
       "  '₹2,300',\n",
       "  '₹565',\n",
       "  '₹1,199',\n",
       "  '₹499',\n",
       "  '₹1,799',\n",
       "  '₹669',\n",
       "  '₹2,100',\n",
       "  '₹1,247',\n",
       "  '₹2,899',\n",
       "  '₹699',\n",
       "  '₹2,599',\n",
       "  '₹889',\n",
       "  '₹4,000',\n",
       "  '₹349',\n",
       "  '₹1,199',\n",
       "  '₹349',\n",
       "  '₹499',\n",
       "  '₹512',\n",
       "  '₹1,499',\n",
       "  '₹1,049',\n",
       "  '₹1,999',\n",
       "  '₹499',\n",
       "  '₹599',\n",
       "  '₹2,010',\n",
       "  '₹499',\n",
       "  '₹565',\n",
       "  '₹1,199'],\n",
       " 'rule_xnom': ['₹1,199',\n",
       "  '₹2,300',\n",
       "  '₹565',\n",
       "  '₹1,199',\n",
       "  '₹499',\n",
       "  '₹1,799',\n",
       "  '₹669',\n",
       "  '₹2,100',\n",
       "  '₹1,247',\n",
       "  '₹2,899',\n",
       "  '₹699',\n",
       "  '₹2,599',\n",
       "  '₹889',\n",
       "  '₹4,000',\n",
       "  '₹349',\n",
       "  '₹1,199',\n",
       "  '₹349',\n",
       "  '₹499',\n",
       "  '₹512',\n",
       "  '₹1,499',\n",
       "  '₹1,049',\n",
       "  '₹1,999',\n",
       "  '₹499',\n",
       "  '₹599',\n",
       "  '₹2,010',\n",
       "  '₹499',\n",
       "  '₹565',\n",
       "  '₹1,199'],\n",
       " 'rule_wwm6': ['₹1,199',\n",
       "  '₹2,300',\n",
       "  '₹565',\n",
       "  '₹1,199',\n",
       "  '₹499',\n",
       "  '₹1,799',\n",
       "  '₹669',\n",
       "  '₹2,100',\n",
       "  '₹1,247',\n",
       "  '₹2,899',\n",
       "  '₹699',\n",
       "  '₹2,599',\n",
       "  '₹889',\n",
       "  '₹4,000',\n",
       "  '₹349',\n",
       "  '₹1,199',\n",
       "  '₹349',\n",
       "  '₹499',\n",
       "  '₹512',\n",
       "  '₹1,499',\n",
       "  '₹1,049',\n",
       "  '₹1,999',\n",
       "  '₹499',\n",
       "  '₹599',\n",
       "  '₹2,010',\n",
       "  '₹499',\n",
       "  '₹565',\n",
       "  '₹1,199'],\n",
       " 'rule_oyn5': ['₹1,199',\n",
       "  '₹2,300',\n",
       "  '₹565',\n",
       "  '₹1,199',\n",
       "  '₹499',\n",
       "  '₹1,799',\n",
       "  '₹669',\n",
       "  '₹2,100',\n",
       "  '₹1,247',\n",
       "  '₹2,899',\n",
       "  '₹699',\n",
       "  '₹2,599',\n",
       "  '₹889',\n",
       "  '₹4,000',\n",
       "  '₹349',\n",
       "  '₹1,199',\n",
       "  '₹349',\n",
       "  '₹499',\n",
       "  '₹512',\n",
       "  '₹1,499',\n",
       "  '₹1,049',\n",
       "  '₹1,999',\n",
       "  '₹499',\n",
       "  '₹599',\n",
       "  '₹2,010',\n",
       "  '₹499',\n",
       "  '₹565',\n",
       "  '₹1,199'],\n",
       " 'rule_zfaf': ['₹1,199',\n",
       "  '₹2,300',\n",
       "  '₹565',\n",
       "  '₹1,199',\n",
       "  '₹499',\n",
       "  '₹1,799',\n",
       "  '₹669',\n",
       "  '₹2,100',\n",
       "  '₹1,247',\n",
       "  '₹2,899',\n",
       "  '₹699',\n",
       "  '₹2,599',\n",
       "  '₹889',\n",
       "  '₹4,000',\n",
       "  '₹349',\n",
       "  '₹1,199',\n",
       "  '₹349',\n",
       "  '₹499',\n",
       "  '₹512',\n",
       "  '₹1,499',\n",
       "  '₹1,049',\n",
       "  '₹1,999',\n",
       "  '₹499',\n",
       "  '₹599',\n",
       "  '₹2,010',\n",
       "  '₹499',\n",
       "  '₹565',\n",
       "  '₹1,199'],\n",
       " 'rule_xf2f': ['₹1,199',\n",
       "  '₹2,300',\n",
       "  '₹565',\n",
       "  '₹1,199',\n",
       "  '₹499',\n",
       "  '₹1,799',\n",
       "  '₹669',\n",
       "  '₹2,100',\n",
       "  '₹1,247',\n",
       "  '₹2,899',\n",
       "  '₹699',\n",
       "  '₹2,599',\n",
       "  '₹889',\n",
       "  '₹4,000',\n",
       "  '₹349',\n",
       "  '₹1,199',\n",
       "  '₹349',\n",
       "  '₹499',\n",
       "  '₹512',\n",
       "  '₹1,499',\n",
       "  '₹1,049',\n",
       "  '₹1,999',\n",
       "  '₹499',\n",
       "  '₹599',\n",
       "  '₹2,010',\n",
       "  '₹499',\n",
       "  '₹565',\n",
       "  '₹1,199'],\n",
       " 'rule_5jj2': ['₹1,199',\n",
       "  '₹2,300',\n",
       "  '₹565',\n",
       "  '₹1,199',\n",
       "  '₹499',\n",
       "  '₹1,799',\n",
       "  '₹669',\n",
       "  '₹2,100',\n",
       "  '₹1,247',\n",
       "  '₹2,899',\n",
       "  '₹699',\n",
       "  '₹2,599',\n",
       "  '₹889',\n",
       "  '₹4,000',\n",
       "  '₹349',\n",
       "  '₹1,199',\n",
       "  '₹349',\n",
       "  '₹499',\n",
       "  '₹512',\n",
       "  '₹1,499',\n",
       "  '₹1,049',\n",
       "  '₹1,999',\n",
       "  '₹499',\n",
       "  '₹599',\n",
       "  '₹2,010',\n",
       "  '₹499',\n",
       "  '₹565',\n",
       "  '₹1,199'],\n",
       " 'rule_8wbp': ['₹1,199',\n",
       "  '₹2,300',\n",
       "  '₹565',\n",
       "  '₹1,199',\n",
       "  '₹499',\n",
       "  '₹1,799',\n",
       "  '₹669',\n",
       "  '₹2,100',\n",
       "  '₹1,247',\n",
       "  '₹2,899',\n",
       "  '₹699',\n",
       "  '₹2,599',\n",
       "  '₹889',\n",
       "  '₹4,000',\n",
       "  '₹349',\n",
       "  '₹1,199',\n",
       "  '₹349',\n",
       "  '₹499',\n",
       "  '₹512',\n",
       "  '₹1,499',\n",
       "  '₹1,049',\n",
       "  '₹1,999',\n",
       "  '₹499',\n",
       "  '₹599',\n",
       "  '₹2,010',\n",
       "  '₹499',\n",
       "  '₹565',\n",
       "  '₹1,199'],\n",
       " 'rule_ypqh': ['₹1,199',\n",
       "  '₹2,300',\n",
       "  '₹565',\n",
       "  '₹1,199',\n",
       "  '₹499',\n",
       "  '₹1,799',\n",
       "  '₹669',\n",
       "  '₹2,100',\n",
       "  '₹1,247',\n",
       "  '₹2,899',\n",
       "  '₹699',\n",
       "  '₹2,599',\n",
       "  '₹889',\n",
       "  '₹4,000',\n",
       "  '₹349',\n",
       "  '₹1,199',\n",
       "  '₹349',\n",
       "  '₹499',\n",
       "  '₹512',\n",
       "  '₹1,499',\n",
       "  '₹1,049',\n",
       "  '₹1,999',\n",
       "  '₹499',\n",
       "  '₹599',\n",
       "  '₹2,010',\n",
       "  '₹499',\n",
       "  '₹565',\n",
       "  '₹1,199'],\n",
       " 'rule_5vvg': ['₹1,199',\n",
       "  '₹2,300',\n",
       "  '₹565',\n",
       "  '₹1,199',\n",
       "  '₹499',\n",
       "  '₹1,799',\n",
       "  '₹669',\n",
       "  '₹2,100',\n",
       "  '₹1,247',\n",
       "  '₹2,899',\n",
       "  '₹699',\n",
       "  '₹2,599',\n",
       "  '₹889',\n",
       "  '₹4,000',\n",
       "  '₹349',\n",
       "  '₹1,199',\n",
       "  '₹349',\n",
       "  '₹499',\n",
       "  '₹512',\n",
       "  '₹1,499',\n",
       "  '₹1,049',\n",
       "  '₹1,999',\n",
       "  '₹499',\n",
       "  '₹599',\n",
       "  '₹2,010',\n",
       "  '₹499',\n",
       "  '₹565',\n",
       "  '₹1,199'],\n",
       " 'rule_pvgx': ['Best sellerin School Bags',\n",
       "  'American Tourister 32 Ltrs Black Casual Backpack (AMT FIZZ SCH BAG 02 - BLACK)',\n",
       "  'Amazon\\'s Choicefor \"bags\"',\n",
       "  'Wesley Milestone 2.0 Casual Waterproof Laptop Backpack/Office Bag/School Bag/College Bag/Business Bag/Travel Backpack (Dimensions:13x18 inches) (Compatible with 39.62cm(15.6inch laptop) 30 L (Blue & black)',\n",
       "  'ADISA 15.6 inch Laptop Backpack Office Bag College Travel Back Pack 32 Ltrs (z-Navy Blue)',\n",
       "  'Skybags Brat Black 46 Cms Casual Backpack',\n",
       "  'Gear Aspire 30L Water Restant Office Laptop Bag/Backpack for Men/Women/(Black)',\n",
       "  'Safari Flash Casual Backpack, 26 ltr Water Resistant Travel Bags| Weight Polyester Bagpack for Men and Women, Spacious Shoulder Bag for College, Office, Travelling and Camping',\n",
       "  'Fur Jaden Brown Textured Leatherette Stylish & Spacious Weekender Duffle Bag for Travel',\n",
       "  'Best sellerin Messenger & Sling Bags',\n",
       "  \"DEIN KLEIDER Men's Nylon Messenger Bag\",\n",
       "  'Mi Step Out 12 L Mini Backpack (Small Size, Black, Water Repellant)',\n",
       "  'BennettTM Mystic Formal Business Briefcase Bag Crossbody Messenger College Bags For Men Women MacBook INoteBook ITablet Laptop Upto 15.6 Inch | Handbags with Shoulder Straps (Blue) 6 Months Warranty',\n",
       "  'AirCase Laptop Bag Backpack Case Pouch for Laptop Backpack for Men & Women,Premium Vegan Leather',\n",
       "  'Gear Classic 20L Faux Leather Water Resistant Anti Theft Laptop Bag/Backpack for Men/Women-Brown',\n",
       "  'ADISA Light Weight Laptop Backpack 32 Ltrs',\n",
       "  'Safari Spartan 21 Ltrs Water Resistant Backpack - Blue, S (SPARTAN19CBBLU)',\n",
       "  'ADISA Laptop Backpack 31 Ltrs',\n",
       "  'Wesley Milestone 2.0 Casual Waterproof Laptop Backpack/Office Bag/School Bag/College Bag/Business Bag/Travel Backpack (Dimensions:13x18 inches) (Compatible with 39.62cm(15.6inch laptop) 30 L, Charcoal black'],\n",
       " 'rule_v8og': ['American Tourister 32 Ltrs Black Casual Backpack (AMT FIZZ SCH BAG 02 - BLACK)',\n",
       "  'Wesley Milestone 2.0 Casual Waterproof Laptop Backpack/Office Bag/School Bag/College Bag/Business Bag/Travel Backpack (Dim...',\n",
       "  'ADISA 15.6 inch Laptop Backpack Office Bag College Travel Back Pack 32 Ltrs (z-Navy Blue)',\n",
       "  'Skybags Brat Black 46 Cms Casual Backpack',\n",
       "  'Gear Aspire 30L Water Restant Office Laptop Bag/Backpack for Men/Women/(Black)',\n",
       "  'Safari Flash Casual Backpack, 26 ltr Water Resistant Travel Bags| Weight Polyester Bagpack for Men and Women, Spacious Sho...',\n",
       "  'Fur Jaden Brown Textured Leatherette Stylish & Spacious Weekender Duffle Bag for Travel',\n",
       "  \"DEIN KLEIDER Men's Nylon Messenger Bag\",\n",
       "  'Mi Step Out 12 L Mini Backpack (Small Size, Black, Water Repellant)',\n",
       "  'BennettTM Mystic Formal Business Briefcase Bag Crossbody Messenger College Bags For Men Women MacBook INoteBook ITablet Lap...',\n",
       "  'AirCase Laptop Bag Backpack Case Pouch for Laptop Backpack for Men & Women,Premium Vegan Leather',\n",
       "  'Gear Classic 20L Faux Leather Water Resistant Anti Theft Laptop Bag/Backpack for Men/Women-Brown',\n",
       "  'ADISA Light Weight Laptop Backpack 32 Ltrs',\n",
       "  'Safari Spartan 21 Ltrs Water Resistant Backpack - Blue, S (SPARTAN19CBBLU)',\n",
       "  'ADISA Laptop Backpack 31 Ltrs',\n",
       "  'Wesley Milestone 2.0 Casual Waterproof Laptop Backpack/Office Bag/School Bag/College Bag/Business Bag/Travel Backpack (Dim...']}"
      ]
     },
     "execution_count": 5,
     "metadata": {},
     "output_type": "execute_result"
    }
   ],
   "source": [
    "scraper.get_result_similar(amazon_url,grouped=True)"
   ]
  },
  {
   "cell_type": "code",
   "execution_count": 7,
   "id": "f965cc27",
   "metadata": {},
   "outputs": [],
   "source": [
    "scraper.set_rule_aliases({'rule_pvgx':'Title','rule_3rmw':'Price'})\n",
    "scraper.keep_rules(['rule_pvgx','rule_3rmw'])\n",
    "scraper.save('amazon-search')"
   ]
  },
  {
   "cell_type": "code",
   "execution_count": 8,
   "id": "6fd8f3ea",
   "metadata": {},
   "outputs": [],
   "source": [
    "amazon_url1=\"https://www.amazon.in/s?k=bags&page=2&crid=2M096C61O4MLT&qid=1675476966&sprefix=ba%2Caps%2C283&ref=sr_pg_2\"\n",
    "watched_list1=[\"₹899\",\"Safari Quill Laptop Backpack 26 Ltrs Water Resistant Fabric - Black, L (QUILL19CBBLK)\",\"(675) \",\"3.9\"]"
   ]
  },
  {
   "cell_type": "code",
   "execution_count": 9,
   "id": "7397f40c",
   "metadata": {},
   "outputs": [
    {
     "name": "stdout",
     "output_type": "stream",
     "text": [
      "['4.2', '4.0', '3.7', '5.0', '3.9', '3.4', '4.3', '4.1', '3.6']\n"
     ]
    }
   ],
   "source": [
    "scraper = AutoScraper()\n",
    "result1=scraper.build(amazon_url1,watched_list1)\n",
    "print(result1)"
   ]
  },
  {
   "cell_type": "code",
   "execution_count": 10,
   "id": "c82e999f",
   "metadata": {},
   "outputs": [],
   "source": [
    "amazon_url2=\"https://www.amazon.in/s?k=bags&page=3&crid=2M096C61O4MLT&qid=1675476971&sprefix=ba%2Caps%2C283&ref=sr_pg_3\"\n",
    "watched_list2=[\"₹999\",\"Mi Business Casual 21L Water Resistant Laptop Backpack (Dark Grey)\",\"(6,051)\",\"4.4\"]"
   ]
  },
  {
   "cell_type": "code",
   "execution_count": 11,
   "id": "54b9f394",
   "metadata": {},
   "outputs": [
    {
     "name": "stdout",
     "output_type": "stream",
     "text": [
      "['₹299', '₹799', '₹308', '₹449', '₹1,899', '₹3,999', '₹1,299', '₹689', '₹2,000', '₹549', '₹2,199', '₹529', '₹499', '₹999', '₹399', '₹599', '₹1,699', '₹664', '₹669', '₹2,100', '₹249', '₹498', '₹1,999', '₹189', '₹720', '₹245', '₹370']\n"
     ]
    }
   ],
   "source": [
    "scraper = AutoScraper()\n",
    "result2=scraper.build(amazon_url2,watched_list2)\n",
    "print(result2)"
   ]
  },
  {
   "cell_type": "code",
   "execution_count": 12,
   "id": "d2a260d7",
   "metadata": {},
   "outputs": [],
   "source": [
    "amazon_url3=\"https://www.amazon.in/s?k=bags&page=4&crid=2M096C61O4MLT&qid=1675477255&sprefix=ba%2Caps%2C283&ref=sr_pg_4\"\n",
    "watched_list3=[\"₹589\",\"Half Moon 30L Waterproof 15.6 inch Laptop Office School College Bag Backpack for Men Women Boys & Girls\",\"(343)\",\"3.6\"]"
   ]
  },
  {
   "cell_type": "code",
   "execution_count": 13,
   "id": "cbe36804",
   "metadata": {},
   "outputs": [
    {
     "name": "stdout",
     "output_type": "stream",
     "text": [
      "[]\n"
     ]
    }
   ],
   "source": [
    "scraper = AutoScraper()\n",
    "result3=scraper.build(amazon_url3,watched_list3)\n",
    "print(result3)"
   ]
  },
  {
   "cell_type": "code",
   "execution_count": 14,
   "id": "5d6415e0",
   "metadata": {},
   "outputs": [],
   "source": [
    "amazon_url4=\"https://www.amazon.in/s?k=bags&page=5&crid=2M096C61O4MLT&qid=1675477438&sprefix=ba%2Caps%2C283&ref=sr_pg_5\"\n",
    "watched_list4=[\"₹498\",\"Wesley Xenon Laptop Bag\",\"(1,066)\",\"4\"]"
   ]
  },
  {
   "cell_type": "code",
   "execution_count": 15,
   "id": "05e58691",
   "metadata": {},
   "outputs": [
    {
     "name": "stdout",
     "output_type": "stream",
     "text": [
      "['4']\n"
     ]
    }
   ],
   "source": [
    "scraper = AutoScraper()\n",
    "result4=scraper.build(amazon_url4,watched_list4)\n",
    "print(result4)"
   ]
  },
  {
   "cell_type": "code",
   "execution_count": 16,
   "id": "1ef06cc1",
   "metadata": {},
   "outputs": [],
   "source": [
    "amazon_url5=\"https://www.amazon.in/s?k=bags&page=6&crid=2M096C61O4MLT&qid=1675477671&sprefix=ba%2Caps%2C283&ref=sr_pg_6\"\n",
    "watched_list5=[\"₹429\",\"Gear Moderneco5 21L Water Resistant School Bag/Backpack/College Bag For Men/Women - Navyblue\",\"(2,497)\",\"3.9\"]"
   ]
  },
  {
   "cell_type": "code",
   "execution_count": 17,
   "id": "f51a64c4",
   "metadata": {},
   "outputs": [
    {
     "name": "stdout",
     "output_type": "stream",
     "text": [
      "['₹664', '₹1,099', '₹799', '₹1,399', '₹349', '₹699', '₹299', '₹599', '₹429', '₹999', '₹843', '₹1,899', '₹459', '₹1,599', '₹1,516', '₹4,849', '₹1,055', '₹2,399', '₹1,889', '₹5,099', '₹989', '₹2,490', '₹2,849', '₹5,999', '₹1,499', '₹2,599', '₹399', 'Best sellerin Laptop Messenger & Shoulder Bags', \"Bagneeds Men's Black Synthetic Leather Briefcase Best Laptop Messenger Bag Satchel for Men\", 'Gear Triumph 26L Water Resistant School Bag//Backpack/College Bag for Men/Women - Navy Blue', \"Priority Disney Marvel Spiderman 25 litres Grey School Bag | Casual Backpack for Boys & Girls, Kid's Backpack\", 'Chic Buddy Waterproof Wet Bag, Washable, Reusable for Travel, Beach, Pool, Stroller, Diapers, Dirty Gym Clothes, Wet Swimsuits, Toiletries', 'Gear Moderneco5 21L Water Resistant School Bag/Backpack/College Bag For Men/Women - Navyblue', 'ZIPLINE Unisex Casual Polyester 36 L Backpack School Bag Women Men Boys Girls Children Daypack College Bag Book School Sports Bag Weekend Bag', \"Baggit Women's PEPSI Sling Bag\", \"Amazon Brand - Eden & Ivy Women's Sling Bag\", 'Gear Casual Backpack', 'Motherly Diaper Bags for Mom Travel Basic Edition (Navy Blue,Pack of 1)', 'Veneer Laptop Bag 15.6 Inch, Business Briefcase for Men Women, 15inch Water Resistant Messenger Shoulder Bag with Strap, Durable Office Bag, for Computer/Notebook/MacBook', 'Safari Seek 45 Ltrs Overnighter Expandable Travel Laptop Backpack', \"Lavie Women's Malnov Tote Bag | Ladies Purse Handbag\", 'Red Lemon Polyester Bange Series 15.6inch Laptop Bag for Men 35 LTR Capacity Daily Office Bag for Men and Women Black (1903)', 'GOCART WITH G LOGO Laptop Backpack Casual Daypacks Briefcase Convertible Business Travel Rucksack with USB Charging Port Large College School Bookbag Computer Laptop Bag', 'House of Quirk Hanging Travel Toiletry Bag, Waterproof Dopp Kit for Shaving Makeup Accessories, Men Cosmetic Organizer with Large Capacity, for Gym, Camping - Black', 'Chic Buddy Waterproof Wet Bag, Washable, Reusable for Travel, Beach, Pool, Stroller, Diapers, Dirty Gym Clothes, Wet Swims...', 'ZIPLINE Unisex Casual Polyester 36 L Backpack School Bag Women Men Boys Girls Children Daypack College Bag Book School Spo...', 'Veneer Laptop Bag 15.6 Inch, Business Briefcase for Men Women, 15inch Water Resistant Messenger Shoulder Bag with Strap, D...', 'GOCART WITH G LOGO Laptop Backpack Casual Daypacks Briefcase Convertible Business Travel Rucksack with USB Charging Port L...', 'House of Quirk Hanging Travel Toiletry Bag, Waterproof Dopp Kit for Shaving Makeup Accessories, Men Cosmetic Organizer wit...']\n"
     ]
    }
   ],
   "source": [
    "scraper = AutoScraper()\n",
    "result5=scraper.build(amazon_url5,watched_list5)\n",
    "print(result5)"
   ]
  },
  {
   "cell_type": "code",
   "execution_count": 18,
   "id": "ef4910ca",
   "metadata": {},
   "outputs": [],
   "source": [
    "amazon_url6=\"https://www.amazon.in/s?k=bags&page=7&crid=2M096C61O4MLT&qid=1675477795&sprefix=ba%2Caps%2C283&ref=sr_pg_7\"\n",
    "watched_list6=[\"₹989\",\"BROGBUS Leather Men Bag Business Messenger\",\"(368) \",\"4.1\"]"
   ]
  },
  {
   "cell_type": "code",
   "execution_count": 19,
   "id": "eb723ef2",
   "metadata": {},
   "outputs": [
    {
     "name": "stdout",
     "output_type": "stream",
     "text": [
      "['₹399', '₹999', '₹899', '₹2,625', '₹1,196', '₹2,699', '₹159', '₹249', '₹512', '₹1,499', '₹2,299', '₹2,850', '₹471', '₹1,025', '₹2,799', '₹989', '₹449', '₹498', '₹1,568', '₹5,599', '₹349', '₹662', '₹2,240', '₹269', '₹1,000', '₹1,099', '₹2,580', 'House of Quirk Hanging Travel Toiletry Bag, Waterproof Dopp Kit for Shaving Makeup Accessories, Men Cosmetic Organizer with Large Capacity, for Gym, Camping - Black', 'VIP Polypropylene 48 Cms Travel Bag(DFENDEBRN_Brown)', 'COSMUS Madison waterproof Multipurpose Backpack With laptop compartment , 33L', 'Nivia Polyester String Bag', \"BennettTM Mystic Unisex Adult Men's Laptop Bag 15.6 inch Side Shoulder Briefcase Satchel Messenger Business Bags for Men & Women Front Pocket for Laptop Accessories - Black (6 Month Warranty)\", \"American Tourister Skittle Nxt Polypropylene 50 cms Orange Kid's Luggage (FH0 (0) 96 001)\", 'Wesley office Laptop Bag briefcase notebook professional business 15.6 Inch Briefcase messenger sling Water resistant Laptop Bag Tablet Business Carrying Handbag for Women and Men (Charcoal Black)', 'Genie Clara Backpack for Women - 3 compartments, Laptop Bags for Girls, Stylish and Trendy College Backpacks for Girls, Water Resistant and Lightweight Bags for Office and Travelling Purpose.', 'BROGBUS Leather Men Bag Business Messenger', 'Amazon Brand - Solimo Laptop Backpack for 15.6-inch Laptops (27 litres, Black)', 'Fostelo Handbag For Women And Girls | Ladies Purse Faux Leather Satchel Bag | Woman Gifts | Wedding Gifts For Women | Women 2 Compartments Bag | Travel Purse Hobo Bag | 4 Pockets Shoulder Bag', 'Gear Turbo 45L Expandable Water Resistant Antitheft Laptop Bag/Backpack/Briefcase For Men/Women With Raincover (Grey)', 'Genie Spritz Daypack 14 inch, Stylish and Trendy College backpacks for girls, Water Resistant and Lightweight Mini Bags for Travelling Purpose. Latest Collection of Backpack for women (Rose)', 'F Gear Colorado Grey Orange 39 Ltrs Laptop Backpack (3814)', 'Fur Jaden Hiking Camping Rucksack Casual 10 Ltrs Blue Casual Backpack', 'F Gear Luxur Brown 25 liter Laptop Backpack (2404)', 'House of Quirk Hanging Travel Toiletry Bag, Waterproof Dopp Kit for Shaving Makeup Accessories, Men Cosmetic Organizer wit...', \"BennettTM Mystic Unisex Adult Men's Laptop Bag 15.6 inch Side Shoulder Briefcase Satchel Messenger Business Bags for Men & ...\", 'Wesley office Laptop Bag briefcase notebook professional business 15.6 Inch Briefcase messenger sling Water resistant Lapt...', 'Genie Clara Backpack for Women - 3 compartments, Laptop Bags for Girls, Stylish and Trendy College Backpacks for Girls, Wa...', 'Fostelo Handbag For Women And Girls | Ladies Purse Faux Leather Satchel Bag | Woman Gifts | Wedding Gifts For Women | Wome...', 'Genie Spritz Daypack 14 inch, Stylish and Trendy College backpacks for girls, Water Resistant and Lightweight Mini Bags fo...']\n"
     ]
    }
   ],
   "source": [
    "scraper = AutoScraper()\n",
    "result6=scraper.build(amazon_url6,watched_list6)\n",
    "print(result6)"
   ]
  },
  {
   "cell_type": "code",
   "execution_count": 20,
   "id": "aeef6d00",
   "metadata": {},
   "outputs": [],
   "source": [
    "amazon_url7=\"https://www.amazon.in/s?k=bags&page=8&crid=2M096C61O4MLT&qid=1675477966&sprefix=ba%2Caps%2C283&ref=sr_pg_8\"\n",
    "watched_list7=[\"₹320\",\"Lify Women's Retro Large Size Canvas Shoulder Bag Hobo Crossbody Handbag Casual Tote - 1 Piece\",\"(1,226)\",\"3.8\"]"
   ]
  },
  {
   "cell_type": "code",
   "execution_count": 21,
   "id": "05ef0f34",
   "metadata": {},
   "outputs": [
    {
     "name": "stdout",
     "output_type": "stream",
     "text": [
      "[]\n"
     ]
    }
   ],
   "source": [
    "scraper = AutoScraper()\n",
    "result7=scraper.build(amazon_url7,watched_list7)\n",
    "print(result7)"
   ]
  },
  {
   "cell_type": "code",
   "execution_count": 22,
   "id": "25af660d",
   "metadata": {},
   "outputs": [],
   "source": [
    "amazon_url8=\"https://www.amazon.in/s?k=bags&page=9&crid=2M096C61O4MLT&qid=1675478063&sprefix=ba%2Caps%2C283&ref=sr_pg_9\"\n",
    "watched_list8=[\"₹529\",\"AUXTER Red Polyester Avenger Captain America Shield school Bag casual Backpack Daypack\",\"(3,276)\",\"4.4\"]"
   ]
  },
  {
   "cell_type": "markdown",
   "id": "11e24b65",
   "metadata": {},
   "source": []
  },
  {
   "cell_type": "code",
   "execution_count": 23,
   "id": "f4f874dd",
   "metadata": {},
   "outputs": [
    {
     "name": "stdout",
     "output_type": "stream",
     "text": [
      "[]\n"
     ]
    }
   ],
   "source": [
    "scraper = AutoScraper()\n",
    "result8=scraper.build(amazon_url8,watched_list8)\n",
    "print(result8)"
   ]
  },
  {
   "cell_type": "code",
   "execution_count": 24,
   "id": "d6d02177",
   "metadata": {},
   "outputs": [],
   "source": [
    "amazon_url9=\"https://www.amazon.in/s?k=bags&page=10&crid=2M096C61O4MLT&qid=1675478181&sprefix=ba%2Caps%2C283&ref=sr_pg_10\"\n",
    "watched_list9=[\"₹1,168\",\"F Gear Tycoon 27 Liters Laptop Backpack Sch Bag(Black)\",\"(202)\",\"4.4\"]"
   ]
  },
  {
   "cell_type": "code",
   "execution_count": 25,
   "id": "0f7abd57",
   "metadata": {},
   "outputs": [
    {
     "name": "stdout",
     "output_type": "stream",
     "text": [
      "['4.2', '3.6', '4.1', '4.3', '4.4', '3.8', '3.9', '4.0', '4.5']\n"
     ]
    }
   ],
   "source": [
    "scraper = AutoScraper()\n",
    "result9=scraper.build(amazon_url9,watched_list9)\n",
    "print(result9)"
   ]
  },
  {
   "cell_type": "code",
   "execution_count": 26,
   "id": "925be783",
   "metadata": {},
   "outputs": [],
   "source": [
    "amazon_url10=\"https://www.amazon.in/s?k=bags&page=11&crid=2M096C61O4MLT&qid=1675478315&sprefix=ba%2Caps%2C283&ref=sr_pg_11\"\n",
    "watched_list10=[\"₹193\",\"Nivia 5177RD Polyester String Bag (Red)\",\"(250)\",\"4.0\"]"
   ]
  },
  {
   "cell_type": "code",
   "execution_count": 27,
   "id": "18aabed3",
   "metadata": {},
   "outputs": [
    {
     "name": "stdout",
     "output_type": "stream",
     "text": [
      "[]\n"
     ]
    }
   ],
   "source": [
    "scraper = AutoScraper()\n",
    "result10=scraper.build(amazon_url10,watched_list10)\n",
    "print(result10)"
   ]
  },
  {
   "cell_type": "code",
   "execution_count": 28,
   "id": "a03582a7",
   "metadata": {},
   "outputs": [],
   "source": [
    "amazon_url11=\"https://www.amazon.in/s?k=bags&page=12&crid=2M096C61O4MLT&qid=1675478432&sprefix=ba%2Caps%2C283&ref=sr_pg_12\"\n",
    "watched_list11=[\"₹189\",\"F Gear String 13 Ltr Gym Bag (Black)\",\"(33)\",\"4.2\"]"
   ]
  },
  {
   "cell_type": "code",
   "execution_count": 29,
   "id": "4e963504",
   "metadata": {},
   "outputs": [
    {
     "name": "stdout",
     "output_type": "stream",
     "text": [
      "['(684)', '(50)', '(33)', '(21)', '(2,166)', '(10)', '3.9', '4.2', '3.7', '4.0', '3.5', '4.4', '4.1', '3.8', '4.3']\n"
     ]
    }
   ],
   "source": [
    "scraper = AutoScraper()\n",
    "result11=scraper.build(amazon_url11,watched_list11)\n",
    "print(result11)"
   ]
  },
  {
   "cell_type": "code",
   "execution_count": 30,
   "id": "9714323b",
   "metadata": {},
   "outputs": [],
   "source": [
    "amazon_url12=\"https://www.amazon.in/s?k=bags&page=13&crid=2M096C61O4MLT&qid=1675478552&sprefix=ba%2Caps%2C283&ref=sr_pg_13\"\n",
    "watched_list12=[\"₹499\",\"ADISA 15.6 inch Laptop Backpack Office Bag College Travel Back Pack 32 Ltrs BP032 (Teal-Red)\",\"(159)\",\"4.0\"]"
   ]
  },
  {
   "cell_type": "code",
   "execution_count": 31,
   "id": "aa440d90",
   "metadata": {},
   "outputs": [
    {
     "name": "stdout",
     "output_type": "stream",
     "text": [
      "['₹239', '₹299', '₹174', '₹199', '₹649', '₹1,099', '₹1,681', '₹2,399', '₹552', '₹889', '₹969', '₹3,199', '₹499', '₹328', '₹999', '₹1,899', '₹4,295', '₹1,049', '₹2,199', '₹2,299', '₹784', '₹1,305', '₹949', '₹1,999', '₹349', '₹1,199']\n"
     ]
    }
   ],
   "source": [
    "scraper = AutoScraper()\n",
    "result12=scraper.build(amazon_url12,watched_list12)\n",
    "print(result12)"
   ]
  },
  {
   "cell_type": "code",
   "execution_count": 32,
   "id": "d275d262",
   "metadata": {},
   "outputs": [],
   "source": [
    "amazon_url13=\"https://www.amazon.in/s?k=bags&page=14&crid=2M096C61O4MLT&qid=1675478638&sprefix=ba%2Caps%2C283&ref=sr_pg_14\"\n",
    "watched_list13=[\"₹259\",\"DEIN KLEIDER Nylon Cross Body Travel Mobile Pouch Sling Messenger Bag for Women\",\"(1,331) \",\"4.2\"]"
   ]
  },
  {
   "cell_type": "code",
   "execution_count": 33,
   "id": "2757731c",
   "metadata": {},
   "outputs": [
    {
     "name": "stdout",
     "output_type": "stream",
     "text": [
      "['₹1,113', '₹2,699', '₹979', '₹1,899', '₹599', '₹799', '₹569', '₹1,499', '₹259', '₹999', '₹579', '₹1,790', '₹2,459', '₹3,499', '₹3,150', '₹474', '₹1,600', '₹2,100', '₹449', '₹699', '₹1,999', '₹2,199', '₹1,946', '₹3,999', '₹2,960', '₹3,149', 'COSMUS Heavy Duty School Bag Norwich 33L waterproof Backpacks Bag With laptop compartment', 'Half Moon 55 litres Travelling Laptop Bag/Rucksack Backpack for Luggage Travel Journey Trekking Hiking Bags for Men Women Boys and Girls with Laptop Compartment & Rain Cover (Polyester Navy)', 'Truvic Polyster Black Light Weight Laptop Bag 30 ltrs Laptop Backpack for Upto 15.6 inch Laptop (Black)', 'wooum 48 L Casual Water Resistance Laptop Bag / Backpack for Men Women Boys Girls / Office School College Teens & Students with 15.6 Inch Laptop Compartment 50x37x26Cm', 'DEIN KLEIDER Nylon Cross Body Travel Mobile Pouch Sling Messenger Bag for Women', 'POLESTAR Noble 32 L Bag for College, School, Office, Casual Multipurpose Backpack with 15.6\" Laptop Compartment, Water Resistant, Unisex Design, Stylish & Durable, 1 Year Warranty', 'HP Odyssey Backpack for 15.6-inch Laptop (Grey/Green)', 'American Tourister Polyester Soft 29 cms Travel Duffle(FA0 (0) 09 001_Black)', 'wooum Water Resistant Material Sling Bag/One Side Bag/Shoulder Bag/Messenger Bag/Office Messenger Bag/Travel Side Bag with 14.1 Inch Laptop Compartment -', 'uppercase Medium 17 Ltrs Vegan Leather (14.6 inch) Laptop Backpack 2300EBP1 3x more water resistant sustainable bags with rain proof zippers for Men, Women, Boys and Girls, 750 Days warranty (Green)', 'Tabelito® Basic Laptop Bag Sleeve Case Cover Pouch for 15.6 Inch(39.6cm) Laptop Apple / Dell / Lenovo / Asus / Hp / Samsung / Mi / MacBook / Ultrabook / Thinkpad / Ideapad / Surfacepro (Blue)', 'Half Moon 35 L Casual Water Resistant 15.6 inch Laptop Bag/Backpack for Men Women Boys Girls/Office School College Teens & Students with Rain Cover (Airport Blue)', 'Gear Vintage2 28L Faux Leather Water Resistant Anti Theft Laptop Bag/Backpack for Men/Women-Navy', 'Golden Wolf Laptop Bag Business Anti-theft Backpack with Lock, Water Resistant College School Laptop Backpack with Rain Cover and USB Port Earphone Port, Backpack for 15.6-inch Laptop 25 L Travel Bag for Women and Men Gifts, Light Grey', 'HARISSONS Bags Vervo 15.6-inch Laptop/Travel/Casual Backpack for Men and Women with Rain Cover (Black, 40 Ltrs) | Quick Access Zippered Pocket, Detailed Organizers & a Detachable Key Chain Holder', 'Half Moon 55 litres Travelling Laptop Bag/Rucksack Backpack for Luggage Travel Journey Trekking Hiking Bags for Men Women ...', 'wooum 48 L Casual Water Resistance Laptop Bag / Backpack for Men Women Boys Girls / Office School College Teens & Students...', 'POLESTAR Noble 32 L Bag for College, School, Office, Casual Multipurpose Backpack with 15.6', 'wooum Water Resistant Material Sling Bag/One Side Bag/Shoulder Bag/Messenger Bag/Office Messenger Bag/Travel Side Bag with...', 'uppercase Medium 17 Ltrs Vegan Leather (14.6 inch) Laptop Backpack 2300EBP1 3x more water resistant sustainable bags with ...', 'Tabelito® Basic Laptop Bag Sleeve Case Cover Pouch for 15.6 Inch(39.6cm) Laptop Apple / Dell / Lenovo / Asus / Hp / Samsun...', 'Half Moon 35 L Casual Water Resistant 15.6 inch Laptop Bag/Backpack for Men Women Boys Girls/Office School College Teens &...', 'Golden Wolf Laptop Bag Business Anti-theft Backpack with Lock, Water Resistant College School Laptop Backpack with Rain Co...', 'HARISSONS Bags Vervo 15.6-inch Laptop/Travel/Casual Backpack for Men and Women with Rain Cover (Black, 40 Ltrs) | Quick Ac...']\n"
     ]
    }
   ],
   "source": [
    "scraper = AutoScraper()\n",
    "result13=scraper.build(amazon_url13,watched_list13)\n",
    "print(result13)"
   ]
  },
  {
   "cell_type": "code",
   "execution_count": 34,
   "id": "c2e66887",
   "metadata": {},
   "outputs": [],
   "source": [
    "amazon_url14=\"https://www.amazon.in/s?k=bags&page=15&crid=2M096C61O4MLT&qid=1675478753&sprefix=ba%2Caps%2C283&ref=sr_pg_15\"\n",
    "watched_list14=[\"₹1,139\",\"F Gear Yakuza Brown 34 liter Laptop Backpack Sch Bag\",\"(794)\",\"4.4\"]"
   ]
  },
  {
   "cell_type": "code",
   "execution_count": 35,
   "id": "c953be49",
   "metadata": {},
   "outputs": [
    {
     "name": "stdout",
     "output_type": "stream",
     "text": [
      "[]\n"
     ]
    }
   ],
   "source": [
    "scraper = AutoScraper()\n",
    "result14=scraper.build(amazon_url14,watched_list14)\n",
    "print(result14)"
   ]
  },
  {
   "cell_type": "code",
   "execution_count": 36,
   "id": "da0b8efc",
   "metadata": {},
   "outputs": [],
   "source": [
    "amazon_url15=\"https://www.amazon.in/s?k=bags&page=16&crid=2M096C61O4MLT&qid=1675478868&sprefix=ba%2Caps%2C283&ref=sr_pg_16\"\n",
    "watched_list15=[\"₹379\",\"DIVING DEEP Women Backpack Latest School Bag for Girls (Black)\",\"(1,398)\",\"3.3\"]"
   ]
  },
  {
   "cell_type": "code",
   "execution_count": 37,
   "id": "742b9c83",
   "metadata": {},
   "outputs": [
    {
     "name": "stdout",
     "output_type": "stream",
     "text": [
      "[]\n"
     ]
    }
   ],
   "source": [
    "scraper = AutoScraper()\n",
    "result15=scraper.build(amazon_url15,watched_list15)\n",
    "print(result15)"
   ]
  },
  {
   "cell_type": "code",
   "execution_count": 38,
   "id": "cc826186",
   "metadata": {},
   "outputs": [],
   "source": [
    "amazon_url16=\"https://www.amazon.in/s?k=bags&page=17&crid=2M096C61O4MLT&qid=1675479015&sprefix=ba%2Caps%2C283&ref=sr_pg_17\"\n",
    "watched_list16=[\"₹636\",\"Mammon Women's PU Leather Handbag Combo\",\"(6,912)\",\"3.4\"]"
   ]
  },
  {
   "cell_type": "code",
   "execution_count": 39,
   "id": "647fd9b6",
   "metadata": {},
   "outputs": [
    {
     "name": "stdout",
     "output_type": "stream",
     "text": [
      "[]\n"
     ]
    }
   ],
   "source": [
    "scraper = AutoScraper()\n",
    "result16=scraper.build(amazon_url16,watched_list16)\n",
    "print(result16)"
   ]
  },
  {
   "cell_type": "code",
   "execution_count": 40,
   "id": "e9d61e2a",
   "metadata": {},
   "outputs": [],
   "source": [
    "amazon_url17=\"https://www.amazon.in/s?k=bags&page=17&crid=2M096C61O4MLT&qid=1675479015&sprefix=ba%2Caps%2C283&ref=sr_pg_18\"\n",
    "watched_list17=[\"₹799\",\"Gear ECO 1 Black Orange Red Laptop Backpack\",\"(1,341) \",\"4.3\"]"
   ]
  },
  {
   "cell_type": "code",
   "execution_count": 41,
   "id": "7d3a1bbc",
   "metadata": {},
   "outputs": [
    {
     "name": "stdout",
     "output_type": "stream",
     "text": [
      "['₹975', '₹1,499', '₹599', '₹2,199', '₹3,999', '₹8,999', '₹99', '₹199', '₹539', '₹2,599', '₹1,089', '₹4,000', '₹1,999', '₹329', '₹650', '₹2,009', '₹3,699', '₹1,424', '₹3,200', '₹379', '₹1,199', '₹349', '₹450', '₹698.89', '₹1,980', '₹530', '₹799', '₹284', '₹899', '₹699', '₹2,399']\n"
     ]
    }
   ],
   "source": [
    "scraper = AutoScraper()\n",
    "result17=scraper.build(amazon_url17,watched_list17)\n",
    "print(result17)"
   ]
  },
  {
   "cell_type": "code",
   "execution_count": 42,
   "id": "ba2d5cf6",
   "metadata": {},
   "outputs": [],
   "source": [
    "amazon_url18=\"https://www.amazon.in/s?k=bags&page=19&crid=2M096C61O4MLT&qid=1675479293&sprefix=ba%2Caps%2C283&ref=sr_pg_19\"\n",
    "watched_list18=[\"₹495\",\"ADISA Women Girls Floral Print Sling Bag\",\" (1,175) \",\"4.2\"]"
   ]
  },
  {
   "cell_type": "code",
   "execution_count": 43,
   "id": "d5d170b7",
   "metadata": {},
   "outputs": [
    {
     "name": "stdout",
     "output_type": "stream",
     "text": [
      "['3.9', '3.7', '4.2', '4.0', '3.5', '3.8', '4.1', '4.3', '4.4']\n"
     ]
    }
   ],
   "source": [
    "scraper = AutoScraper()\n",
    "result18=scraper.build(amazon_url18,watched_list18)\n",
    "print(result18)"
   ]
  },
  {
   "cell_type": "code",
   "execution_count": 44,
   "id": "f76bd331",
   "metadata": {},
   "outputs": [],
   "source": [
    "amazon_url19=\"https://www.amazon.in/s?k=bags&page=20&crid=2M096C61O4MLT&qid=1675479411&sprefix=ba%2Caps%2C283&ref=sr_pg_20\"\n",
    "watched_list19=[\"₹1,315\",\"KILLER Polyester Backpack - Checkers 29 Ltr Office Laptop Backpack\",\"(686) \",\"4.3\"]"
   ]
  },
  {
   "cell_type": "code",
   "execution_count": 45,
   "id": "78fab761",
   "metadata": {},
   "outputs": [
    {
     "name": "stdout",
     "output_type": "stream",
     "text": [
      "[]\n"
     ]
    }
   ],
   "source": [
    "scraper = AutoScraper()\n",
    "result19=scraper.build(amazon_url19,watched_list19)\n",
    "print(result19)"
   ]
  },
  {
   "cell_type": "code",
   "execution_count": null,
   "id": "4c7e87ba",
   "metadata": {},
   "outputs": [],
   "source": []
  }
 ],
 "metadata": {
  "kernelspec": {
   "display_name": "Python 3 (ipykernel)",
   "language": "python",
   "name": "python3"
  },
  "language_info": {
   "codemirror_mode": {
    "name": "ipython",
    "version": 3
   },
   "file_extension": ".py",
   "mimetype": "text/x-python",
   "name": "python",
   "nbconvert_exporter": "python",
   "pygments_lexer": "ipython3",
   "version": "3.11.1"
  }
 },
 "nbformat": 4,
 "nbformat_minor": 5
}
