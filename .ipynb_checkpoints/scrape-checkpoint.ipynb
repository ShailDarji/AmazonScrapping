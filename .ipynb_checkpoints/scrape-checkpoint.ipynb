{
 "cells": [
  {
   "cell_type": "code",
   "execution_count": 1,
   "id": "4aa263d3",
   "metadata": {},
   "outputs": [
    {
     "name": "stdout",
     "output_type": "stream",
     "text": [
      "Collecting autoscraper\n",
      "  Downloading autoscraper-1.1.14-py3-none-any.whl (10 kB)\n",
      "Requirement already satisfied: requests in c:\\users\\shail darji\\appdata\\local\\programs\\python\\python311\\lib\\site-packages (from autoscraper) (2.28.2)\n",
      "Collecting bs4\n",
      "  Downloading bs4-0.0.1.tar.gz (1.1 kB)\n",
      "  Preparing metadata (setup.py): started\n",
      "  Preparing metadata (setup.py): finished with status 'done'\n",
      "Requirement already satisfied: lxml in c:\\users\\shail darji\\appdata\\local\\programs\\python\\python311\\lib\\site-packages (from autoscraper) (4.9.2)\n",
      "Requirement already satisfied: beautifulsoup4 in c:\\users\\shail darji\\appdata\\local\\programs\\python\\python311\\lib\\site-packages (from bs4->autoscraper) (4.11.1)\n",
      "Requirement already satisfied: charset-normalizer<4,>=2 in c:\\users\\shail darji\\appdata\\local\\programs\\python\\python311\\lib\\site-packages (from requests->autoscraper) (3.0.1)\n",
      "Requirement already satisfied: idna<4,>=2.5 in c:\\users\\shail darji\\appdata\\local\\programs\\python\\python311\\lib\\site-packages (from requests->autoscraper) (3.4)\n",
      "Requirement already satisfied: urllib3<1.27,>=1.21.1 in c:\\users\\shail darji\\appdata\\local\\programs\\python\\python311\\lib\\site-packages (from requests->autoscraper) (1.26.14)\n",
      "Requirement already satisfied: certifi>=2017.4.17 in c:\\users\\shail darji\\appdata\\local\\programs\\python\\python311\\lib\\site-packages (from requests->autoscraper) (2022.12.7)\n",
      "Requirement already satisfied: soupsieve>1.2 in c:\\users\\shail darji\\appdata\\local\\programs\\python\\python311\\lib\\site-packages (from beautifulsoup4->bs4->autoscraper) (2.3.2.post1)\n",
      "Installing collected packages: bs4, autoscraper\n",
      "  Running setup.py install for bs4: started\n",
      "  Running setup.py install for bs4: finished with status 'done'\n",
      "Successfully installed autoscraper-1.1.14 bs4-0.0.1\n"
     ]
    },
    {
     "name": "stderr",
     "output_type": "stream",
     "text": [
      "  DEPRECATION: bs4 is being installed using the legacy 'setup.py install' method, because it does not have a 'pyproject.toml' and the 'wheel' package is not installed. pip 23.1 will enforce this behaviour change. A possible replacement is to enable the '--use-pep517' option. Discussion can be found at https://github.com/pypa/pip/issues/8559\n"
     ]
    }
   ],
   "source": [
    "!pip install autoscraper"
   ]
  },
  {
   "cell_type": "code",
   "execution_count": 2,
   "id": "5a4e940d",
   "metadata": {},
   "outputs": [],
   "source": [
    "from autoscraper import AutoScraper"
   ]
  },
  {
   "cell_type": "code",
   "execution_count": 3,
   "id": "a10da748",
   "metadata": {},
   "outputs": [],
   "source": [
    "amazon_url=\"https://www.amazon.in/s?k=bags&crid=2M096C61O4MLT&qid=1653308124&sprefix=ba%2Caps%2C283&ref=sr_pg_1\"\n",
    "watched_list=[\"₹499\",\"ADISA 15.6 inch Laptop Backpack Office Bag College Travel Back Pack 32 Ltrs (z-Navy Blue)\",\"(463)\",\"3.9\"]"
   ]
  },
  {
   "cell_type": "code",
   "execution_count": 4,
   "id": "230950fd",
   "metadata": {},
   "outputs": [
    {
     "name": "stdout",
     "output_type": "stream",
     "text": [
      "['₹1,199', '₹2,300', '₹565', '₹499', '₹1,799', '₹669', '₹2,100', '₹1,247', '₹2,899', '₹699', '₹2,599', '₹889', '₹4,000', '₹349', '₹512', '₹1,499', '₹1,049', '₹1,999', '₹599', '₹2,010', '₹299', 'Best sellerin School Bags', 'American Tourister 32 Ltrs Black Casual Backpack (AMT FIZZ SCH BAG 02 - BLACK)', 'Amazon\\'s Choicefor \"bags\"', 'Wesley Milestone 2.0 Casual Waterproof Laptop Backpack/Office Bag/School Bag/College Bag/Business Bag/Travel Backpack (Dimensions:13x18 inches) (Compatible with 39.62cm(15.6inch laptop) 30 L (Blue & black)', 'ADISA 15.6 inch Laptop Backpack Office Bag College Travel Back Pack 32 Ltrs (z-Navy Blue)', 'Skybags Brat Black 46 Cms Casual Backpack', 'Gear Aspire 30L Water Restant Office Laptop Bag/Backpack for Men/Women/(Black)', 'Safari Flash Casual Backpack, 26 ltr Water Resistant Travel Bags| Weight Polyester Bagpack for Men and Women, Spacious Shoulder Bag for College, Office, Travelling and Camping', 'Fur Jaden Brown Textured Leatherette Stylish & Spacious Weekender Duffle Bag for Travel', 'Best sellerin Messenger & Sling Bags', \"DEIN KLEIDER Men's Nylon Messenger Bag\", 'Mi Step Out 12 L Mini Backpack (Small Size, Black, Water Repellant)', 'BennettTM Mystic Formal Business Briefcase Bag Crossbody Messenger College Bags For Men Women MacBook INoteBook ITablet Laptop Upto 15.6 Inch | Handbags with Shoulder Straps (Blue) 6 Months Warranty', 'AirCase Laptop Bag Backpack Case Pouch for Laptop Backpack for Men & Women,Premium Vegan Leather', 'Gear Classic 20L Faux Leather Water Resistant Anti Theft Laptop Bag/Backpack for Men/Women-Brown', 'ADISA Light Weight Laptop Backpack 32 Ltrs', 'Safari Spartan 21 Ltrs Water Resistant Backpack - Blue, S (SPARTAN19CBBLU)', 'ADISA Laptop Backpack 31 Ltrs', 'Mi Step Out 12 L Mini Backpack (Small Size, Dark Blue, Water Repellant)', 'Wesley Milestone 2.0 Casual Waterproof Laptop Backpack/Office Bag/School Bag/College Bag/Business Bag/Travel Backpack (Dim...', 'Safari Flash Casual Backpack, 26 ltr Water Resistant Travel Bags| Weight Polyester Bagpack for Men and Women, Spacious Sho...', 'BennettTM Mystic Formal Business Briefcase Bag Crossbody Messenger College Bags For Men Women MacBook INoteBook ITablet Lap...']\n"
     ]
    }
   ],
   "source": [
    "scraper = AutoScraper()\n",
    "result=scraper.build(amazon_url,watched_list)\n",
    "print(result)"
   ]
  },
  {
   "cell_type": "code",
   "execution_count": 5,
   "id": "9240d300",
   "metadata": {},
   "outputs": [
    {
     "data": {
      "text/plain": [
       "{'rule_3rmw': ['₹1,199',\n",
       "  '₹2,300',\n",
       "  '₹565',\n",
       "  '₹1,199',\n",
       "  '₹499',\n",
       "  '₹1,799',\n",
       "  '₹669',\n",
       "  '₹2,100',\n",
       "  '₹1,247',\n",
       "  '₹2,899',\n",
       "  '₹699',\n",
       "  '₹2,599',\n",
       "  '₹889',\n",
       "  '₹4,000',\n",
       "  '₹349',\n",
       "  '₹1,199',\n",
       "  '₹349',\n",
       "  '₹499',\n",
       "  '₹512',\n",
       "  '₹1,499',\n",
       "  '₹1,049',\n",
       "  '₹1,999',\n",
       "  '₹499',\n",
       "  '₹599',\n",
       "  '₹2,010',\n",
       "  '₹499',\n",
       "  '₹565',\n",
       "  '₹1,199'],\n",
       " 'rule_xnom': ['₹1,199',\n",
       "  '₹2,300',\n",
       "  '₹565',\n",
       "  '₹1,199',\n",
       "  '₹499',\n",
       "  '₹1,799',\n",
       "  '₹669',\n",
       "  '₹2,100',\n",
       "  '₹1,247',\n",
       "  '₹2,899',\n",
       "  '₹699',\n",
       "  '₹2,599',\n",
       "  '₹889',\n",
       "  '₹4,000',\n",
       "  '₹349',\n",
       "  '₹1,199',\n",
       "  '₹349',\n",
       "  '₹499',\n",
       "  '₹512',\n",
       "  '₹1,499',\n",
       "  '₹1,049',\n",
       "  '₹1,999',\n",
       "  '₹499',\n",
       "  '₹599',\n",
       "  '₹2,010',\n",
       "  '₹499',\n",
       "  '₹565',\n",
       "  '₹1,199'],\n",
       " 'rule_wwm6': ['₹1,199',\n",
       "  '₹2,300',\n",
       "  '₹565',\n",
       "  '₹1,199',\n",
       "  '₹499',\n",
       "  '₹1,799',\n",
       "  '₹669',\n",
       "  '₹2,100',\n",
       "  '₹1,247',\n",
       "  '₹2,899',\n",
       "  '₹699',\n",
       "  '₹2,599',\n",
       "  '₹889',\n",
       "  '₹4,000',\n",
       "  '₹349',\n",
       "  '₹1,199',\n",
       "  '₹349',\n",
       "  '₹499',\n",
       "  '₹512',\n",
       "  '₹1,499',\n",
       "  '₹1,049',\n",
       "  '₹1,999',\n",
       "  '₹499',\n",
       "  '₹599',\n",
       "  '₹2,010',\n",
       "  '₹499',\n",
       "  '₹565',\n",
       "  '₹1,199'],\n",
       " 'rule_oyn5': ['₹1,199',\n",
       "  '₹2,300',\n",
       "  '₹565',\n",
       "  '₹1,199',\n",
       "  '₹499',\n",
       "  '₹1,799',\n",
       "  '₹669',\n",
       "  '₹2,100',\n",
       "  '₹1,247',\n",
       "  '₹2,899',\n",
       "  '₹699',\n",
       "  '₹2,599',\n",
       "  '₹889',\n",
       "  '₹4,000',\n",
       "  '₹349',\n",
       "  '₹1,199',\n",
       "  '₹349',\n",
       "  '₹499',\n",
       "  '₹512',\n",
       "  '₹1,499',\n",
       "  '₹1,049',\n",
       "  '₹1,999',\n",
       "  '₹499',\n",
       "  '₹599',\n",
       "  '₹2,010',\n",
       "  '₹499',\n",
       "  '₹565',\n",
       "  '₹1,199'],\n",
       " 'rule_zfaf': ['₹1,199',\n",
       "  '₹2,300',\n",
       "  '₹565',\n",
       "  '₹1,199',\n",
       "  '₹499',\n",
       "  '₹1,799',\n",
       "  '₹669',\n",
       "  '₹2,100',\n",
       "  '₹1,247',\n",
       "  '₹2,899',\n",
       "  '₹699',\n",
       "  '₹2,599',\n",
       "  '₹889',\n",
       "  '₹4,000',\n",
       "  '₹349',\n",
       "  '₹1,199',\n",
       "  '₹349',\n",
       "  '₹499',\n",
       "  '₹512',\n",
       "  '₹1,499',\n",
       "  '₹1,049',\n",
       "  '₹1,999',\n",
       "  '₹499',\n",
       "  '₹599',\n",
       "  '₹2,010',\n",
       "  '₹499',\n",
       "  '₹565',\n",
       "  '₹1,199'],\n",
       " 'rule_xf2f': ['₹1,199',\n",
       "  '₹2,300',\n",
       "  '₹565',\n",
       "  '₹1,199',\n",
       "  '₹499',\n",
       "  '₹1,799',\n",
       "  '₹669',\n",
       "  '₹2,100',\n",
       "  '₹1,247',\n",
       "  '₹2,899',\n",
       "  '₹699',\n",
       "  '₹2,599',\n",
       "  '₹889',\n",
       "  '₹4,000',\n",
       "  '₹349',\n",
       "  '₹1,199',\n",
       "  '₹349',\n",
       "  '₹499',\n",
       "  '₹512',\n",
       "  '₹1,499',\n",
       "  '₹1,049',\n",
       "  '₹1,999',\n",
       "  '₹499',\n",
       "  '₹599',\n",
       "  '₹2,010',\n",
       "  '₹499',\n",
       "  '₹565',\n",
       "  '₹1,199'],\n",
       " 'rule_5jj2': ['₹1,199',\n",
       "  '₹2,300',\n",
       "  '₹565',\n",
       "  '₹1,199',\n",
       "  '₹499',\n",
       "  '₹1,799',\n",
       "  '₹669',\n",
       "  '₹2,100',\n",
       "  '₹1,247',\n",
       "  '₹2,899',\n",
       "  '₹699',\n",
       "  '₹2,599',\n",
       "  '₹889',\n",
       "  '₹4,000',\n",
       "  '₹349',\n",
       "  '₹1,199',\n",
       "  '₹349',\n",
       "  '₹499',\n",
       "  '₹512',\n",
       "  '₹1,499',\n",
       "  '₹1,049',\n",
       "  '₹1,999',\n",
       "  '₹499',\n",
       "  '₹599',\n",
       "  '₹2,010',\n",
       "  '₹499',\n",
       "  '₹565',\n",
       "  '₹1,199'],\n",
       " 'rule_8wbp': ['₹1,199',\n",
       "  '₹2,300',\n",
       "  '₹565',\n",
       "  '₹1,199',\n",
       "  '₹499',\n",
       "  '₹1,799',\n",
       "  '₹669',\n",
       "  '₹2,100',\n",
       "  '₹1,247',\n",
       "  '₹2,899',\n",
       "  '₹699',\n",
       "  '₹2,599',\n",
       "  '₹889',\n",
       "  '₹4,000',\n",
       "  '₹349',\n",
       "  '₹1,199',\n",
       "  '₹349',\n",
       "  '₹499',\n",
       "  '₹512',\n",
       "  '₹1,499',\n",
       "  '₹1,049',\n",
       "  '₹1,999',\n",
       "  '₹499',\n",
       "  '₹599',\n",
       "  '₹2,010',\n",
       "  '₹499',\n",
       "  '₹565',\n",
       "  '₹1,199'],\n",
       " 'rule_ypqh': ['₹1,199',\n",
       "  '₹2,300',\n",
       "  '₹565',\n",
       "  '₹1,199',\n",
       "  '₹499',\n",
       "  '₹1,799',\n",
       "  '₹669',\n",
       "  '₹2,100',\n",
       "  '₹1,247',\n",
       "  '₹2,899',\n",
       "  '₹699',\n",
       "  '₹2,599',\n",
       "  '₹889',\n",
       "  '₹4,000',\n",
       "  '₹349',\n",
       "  '₹1,199',\n",
       "  '₹349',\n",
       "  '₹499',\n",
       "  '₹512',\n",
       "  '₹1,499',\n",
       "  '₹1,049',\n",
       "  '₹1,999',\n",
       "  '₹499',\n",
       "  '₹599',\n",
       "  '₹2,010',\n",
       "  '₹499',\n",
       "  '₹565',\n",
       "  '₹1,199'],\n",
       " 'rule_5vvg': ['₹1,199',\n",
       "  '₹2,300',\n",
       "  '₹565',\n",
       "  '₹1,199',\n",
       "  '₹499',\n",
       "  '₹1,799',\n",
       "  '₹669',\n",
       "  '₹2,100',\n",
       "  '₹1,247',\n",
       "  '₹2,899',\n",
       "  '₹699',\n",
       "  '₹2,599',\n",
       "  '₹889',\n",
       "  '₹4,000',\n",
       "  '₹349',\n",
       "  '₹1,199',\n",
       "  '₹349',\n",
       "  '₹499',\n",
       "  '₹512',\n",
       "  '₹1,499',\n",
       "  '₹1,049',\n",
       "  '₹1,999',\n",
       "  '₹499',\n",
       "  '₹599',\n",
       "  '₹2,010',\n",
       "  '₹499',\n",
       "  '₹565',\n",
       "  '₹1,199'],\n",
       " 'rule_pvgx': ['Best sellerin School Bags',\n",
       "  'American Tourister 32 Ltrs Black Casual Backpack (AMT FIZZ SCH BAG 02 - BLACK)',\n",
       "  'Amazon\\'s Choicefor \"bags\"',\n",
       "  'Wesley Milestone 2.0 Casual Waterproof Laptop Backpack/Office Bag/School Bag/College Bag/Business Bag/Travel Backpack (Dimensions:13x18 inches) (Compatible with 39.62cm(15.6inch laptop) 30 L (Blue & black)',\n",
       "  'ADISA 15.6 inch Laptop Backpack Office Bag College Travel Back Pack 32 Ltrs (z-Navy Blue)',\n",
       "  'Skybags Brat Black 46 Cms Casual Backpack',\n",
       "  'Gear Aspire 30L Water Restant Office Laptop Bag/Backpack for Men/Women/(Black)',\n",
       "  'Safari Flash Casual Backpack, 26 ltr Water Resistant Travel Bags| Weight Polyester Bagpack for Men and Women, Spacious Shoulder Bag for College, Office, Travelling and Camping',\n",
       "  'Fur Jaden Brown Textured Leatherette Stylish & Spacious Weekender Duffle Bag for Travel',\n",
       "  'Best sellerin Messenger & Sling Bags',\n",
       "  \"DEIN KLEIDER Men's Nylon Messenger Bag\",\n",
       "  'Mi Step Out 12 L Mini Backpack (Small Size, Black, Water Repellant)',\n",
       "  'BennettTM Mystic Formal Business Briefcase Bag Crossbody Messenger College Bags For Men Women MacBook INoteBook ITablet Laptop Upto 15.6 Inch | Handbags with Shoulder Straps (Blue) 6 Months Warranty',\n",
       "  'AirCase Laptop Bag Backpack Case Pouch for Laptop Backpack for Men & Women,Premium Vegan Leather',\n",
       "  'Gear Classic 20L Faux Leather Water Resistant Anti Theft Laptop Bag/Backpack for Men/Women-Brown',\n",
       "  'ADISA Light Weight Laptop Backpack 32 Ltrs',\n",
       "  'Safari Spartan 21 Ltrs Water Resistant Backpack - Blue, S (SPARTAN19CBBLU)',\n",
       "  'ADISA Laptop Backpack 31 Ltrs',\n",
       "  'Wesley Milestone 2.0 Casual Waterproof Laptop Backpack/Office Bag/School Bag/College Bag/Business Bag/Travel Backpack (Dimensions:13x18 inches) (Compatible with 39.62cm(15.6inch laptop) 30 L, Charcoal black'],\n",
       " 'rule_v8og': ['American Tourister 32 Ltrs Black Casual Backpack (AMT FIZZ SCH BAG 02 - BLACK)',\n",
       "  'Wesley Milestone 2.0 Casual Waterproof Laptop Backpack/Office Bag/School Bag/College Bag/Business Bag/Travel Backpack (Dim...',\n",
       "  'ADISA 15.6 inch Laptop Backpack Office Bag College Travel Back Pack 32 Ltrs (z-Navy Blue)',\n",
       "  'Skybags Brat Black 46 Cms Casual Backpack',\n",
       "  'Gear Aspire 30L Water Restant Office Laptop Bag/Backpack for Men/Women/(Black)',\n",
       "  'Safari Flash Casual Backpack, 26 ltr Water Resistant Travel Bags| Weight Polyester Bagpack for Men and Women, Spacious Sho...',\n",
       "  'Fur Jaden Brown Textured Leatherette Stylish & Spacious Weekender Duffle Bag for Travel',\n",
       "  \"DEIN KLEIDER Men's Nylon Messenger Bag\",\n",
       "  'Mi Step Out 12 L Mini Backpack (Small Size, Black, Water Repellant)',\n",
       "  'BennettTM Mystic Formal Business Briefcase Bag Crossbody Messenger College Bags For Men Women MacBook INoteBook ITablet Lap...',\n",
       "  'AirCase Laptop Bag Backpack Case Pouch for Laptop Backpack for Men & Women,Premium Vegan Leather',\n",
       "  'Gear Classic 20L Faux Leather Water Resistant Anti Theft Laptop Bag/Backpack for Men/Women-Brown',\n",
       "  'ADISA Light Weight Laptop Backpack 32 Ltrs',\n",
       "  'Safari Spartan 21 Ltrs Water Resistant Backpack - Blue, S (SPARTAN19CBBLU)',\n",
       "  'ADISA Laptop Backpack 31 Ltrs',\n",
       "  'Wesley Milestone 2.0 Casual Waterproof Laptop Backpack/Office Bag/School Bag/College Bag/Business Bag/Travel Backpack (Dim...']}"
      ]
     },
     "execution_count": 5,
     "metadata": {},
     "output_type": "execute_result"
    }
   ],
   "source": [
    "scraper.get_result_similar(amazon_url,grouped=True)"
   ]
  },
  {
   "cell_type": "code",
   "execution_count": 6,
   "id": "f965cc27",
   "metadata": {},
   "outputs": [
    {
     "ename": "KeyError",
     "evalue": "'rule_1vdn'",
     "output_type": "error",
     "traceback": [
      "\u001b[1;31m---------------------------------------------------------------------------\u001b[0m",
      "\u001b[1;31mKeyError\u001b[0m                                  Traceback (most recent call last)",
      "Cell \u001b[1;32mIn[6], line 1\u001b[0m\n\u001b[1;32m----> 1\u001b[0m \u001b[43mscraper\u001b[49m\u001b[38;5;241;43m.\u001b[39;49m\u001b[43mset_rule_aliases\u001b[49m\u001b[43m(\u001b[49m\u001b[43m{\u001b[49m\u001b[38;5;124;43m'\u001b[39;49m\u001b[38;5;124;43mrule_1vdn\u001b[39;49m\u001b[38;5;124;43m'\u001b[39;49m\u001b[43m:\u001b[49m\u001b[38;5;124;43m'\u001b[39;49m\u001b[38;5;124;43mTitle\u001b[39;49m\u001b[38;5;124;43m'\u001b[39;49m\u001b[43m,\u001b[49m\u001b[38;5;124;43m'\u001b[39;49m\u001b[38;5;124;43mrule_2i7y\u001b[39;49m\u001b[38;5;124;43m'\u001b[39;49m\u001b[43m:\u001b[49m\u001b[38;5;124;43m'\u001b[39;49m\u001b[38;5;124;43mPrice\u001b[39;49m\u001b[38;5;124;43m'\u001b[39;49m\u001b[43m}\u001b[49m\u001b[43m)\u001b[49m\n\u001b[0;32m      2\u001b[0m scraper\u001b[38;5;241m.\u001b[39mkeep_rules([\u001b[38;5;124m'\u001b[39m\u001b[38;5;124mrule_1vdn\u001b[39m\u001b[38;5;124m'\u001b[39m,\u001b[38;5;124m'\u001b[39m\u001b[38;5;124mrule_2i7y\u001b[39m\u001b[38;5;124m'\u001b[39m])\n\u001b[0;32m      3\u001b[0m scraper\u001b[38;5;241m.\u001b[39msave(\u001b[38;5;124m'\u001b[39m\u001b[38;5;124mamazon-search\u001b[39m\u001b[38;5;124m'\u001b[39m)\n",
      "File \u001b[1;32m~\\AppData\\Local\\Programs\\Python\\Python311\\Lib\\site-packages\\autoscraper\\auto_scraper.py:719\u001b[0m, in \u001b[0;36mAutoScraper.set_rule_aliases\u001b[1;34m(self, rule_aliases)\u001b[0m\n\u001b[0;32m    717\u001b[0m id_to_stack \u001b[38;5;241m=\u001b[39m {stack[\u001b[38;5;124m\"\u001b[39m\u001b[38;5;124mstack_id\u001b[39m\u001b[38;5;124m\"\u001b[39m]: stack \u001b[38;5;28;01mfor\u001b[39;00m stack \u001b[38;5;129;01min\u001b[39;00m \u001b[38;5;28mself\u001b[39m\u001b[38;5;241m.\u001b[39mstack_list}\n\u001b[0;32m    718\u001b[0m \u001b[38;5;28;01mfor\u001b[39;00m rule_id, alias \u001b[38;5;129;01min\u001b[39;00m rule_aliases\u001b[38;5;241m.\u001b[39mitems():\n\u001b[1;32m--> 719\u001b[0m     \u001b[43mid_to_stack\u001b[49m\u001b[43m[\u001b[49m\u001b[43mrule_id\u001b[49m\u001b[43m]\u001b[49m[\u001b[38;5;124m\"\u001b[39m\u001b[38;5;124malias\u001b[39m\u001b[38;5;124m\"\u001b[39m] \u001b[38;5;241m=\u001b[39m alias\n",
      "\u001b[1;31mKeyError\u001b[0m: 'rule_1vdn'"
     ]
    }
   ],
   "source": [
    "scraper.set_rule_aliases({'rule_pvgx':'Title','rule_3rmw':'Price'})\n",
    "scraper.keep_rules(['rule_1vdn','rule_2i7y'])\n",
    "scraper.save('amazon-search')"
   ]
  },
  {
   "cell_type": "code",
   "execution_count": null,
   "id": "6fd8f3ea",
   "metadata": {},
   "outputs": [],
   "source": [
    "amazon_url1=\"https://www.amazon.in/s?k=bags&page=2&crid=2M096C61O4MLT&qid=1675476966&sprefix=ba%2Caps%2C283&ref=sr_pg_2\"\n",
    "watched_list1=[\"₹899\",\"Safari Quill Laptop Backpack 26 Ltrs Water Resistant Fabric - Black, L (QUILL19CBBLK)\",\"(675) \",\"3.9\"]"
   ]
  },
  {
   "cell_type": "code",
   "execution_count": null,
   "id": "7397f40c",
   "metadata": {},
   "outputs": [],
   "source": [
    "scraper = AutoScraper()\n",
    "result1=scraper.build(amazon_url1,watched_list1)\n",
    "print(result1)"
   ]
  },
  {
   "cell_type": "code",
   "execution_count": null,
   "id": "c82e999f",
   "metadata": {},
   "outputs": [],
   "source": [
    "amazon_url2=\"https://www.amazon.in/s?k=bags&page=3&crid=2M096C61O4MLT&qid=1675476971&sprefix=ba%2Caps%2C283&ref=sr_pg_3\"\n",
    "watched_list2=[\"₹999\",\"Mi Business Casual 21L Water Resistant Laptop Backpack (Dark Grey)\",\"(6,051)\",\"4.4\"]"
   ]
  },
  {
   "cell_type": "code",
   "execution_count": null,
   "id": "54b9f394",
   "metadata": {},
   "outputs": [],
   "source": [
    "scraper = AutoScraper()\n",
    "result2=scraper.build(amazon_url2,watched_list2)\n",
    "print(result2)"
   ]
  },
  {
   "cell_type": "code",
   "execution_count": null,
   "id": "d2a260d7",
   "metadata": {},
   "outputs": [],
   "source": [
    "amazon_url3=\"https://www.amazon.in/s?k=bags&page=4&crid=2M096C61O4MLT&qid=1675477255&sprefix=ba%2Caps%2C283&ref=sr_pg_4\"\n",
    "watched_list3=[\"₹589\",\"Half Moon 30L Waterproof 15.6 inch Laptop Office School College Bag Backpack for Men Women Boys & Girls\",\"(343)\",\"3.6\"]"
   ]
  },
  {
   "cell_type": "code",
   "execution_count": null,
   "id": "cbe36804",
   "metadata": {},
   "outputs": [],
   "source": [
    "scraper = AutoScraper()\n",
    "result3=scraper.build(amazon_url3,watched_list3)\n",
    "print(result3)"
   ]
  },
  {
   "cell_type": "code",
   "execution_count": null,
   "id": "5d6415e0",
   "metadata": {},
   "outputs": [],
   "source": [
    "amazon_url4=\"https://www.amazon.in/s?k=bags&page=5&crid=2M096C61O4MLT&qid=1675477438&sprefix=ba%2Caps%2C283&ref=sr_pg_5\"\n",
    "watched_list4=[\"₹498\",\"Wesley Xenon Laptop Bag\",\"(1,066)\",\"4\"]"
   ]
  },
  {
   "cell_type": "code",
   "execution_count": null,
   "id": "05e58691",
   "metadata": {},
   "outputs": [],
   "source": [
    "scraper = AutoScraper()\n",
    "result4=scraper.build(amazon_url4,watched_list4)\n",
    "print(result4)"
   ]
  },
  {
   "cell_type": "code",
   "execution_count": null,
   "id": "1ef06cc1",
   "metadata": {},
   "outputs": [],
   "source": [
    "amazon_url5=\"https://www.amazon.in/s?k=bags&page=6&crid=2M096C61O4MLT&qid=1675477671&sprefix=ba%2Caps%2C283&ref=sr_pg_6\"\n",
    "watched_list5=[\"₹429\",\"Gear Moderneco5 21L Water Resistant School Bag/Backpack/College Bag For Men/Women - Navyblue\",\"(2,497)\",\"3.9\"]"
   ]
  },
  {
   "cell_type": "code",
   "execution_count": null,
   "id": "f51a64c4",
   "metadata": {},
   "outputs": [],
   "source": [
    "scraper = AutoScraper()\n",
    "result5=scraper.build(amazon_url5,watched_list5)\n",
    "print(result5)"
   ]
  },
  {
   "cell_type": "code",
   "execution_count": null,
   "id": "ef4910ca",
   "metadata": {},
   "outputs": [],
   "source": [
    "amazon_url6=\"https://www.amazon.in/s?k=bags&page=7&crid=2M096C61O4MLT&qid=1675477795&sprefix=ba%2Caps%2C283&ref=sr_pg_7\"\n",
    "watched_list6=[\"₹989\",\"BROGBUS Leather Men Bag Business Messenger\",\"(368) \",\"4.1\"]"
   ]
  },
  {
   "cell_type": "code",
   "execution_count": null,
   "id": "eb723ef2",
   "metadata": {},
   "outputs": [],
   "source": [
    "scraper = AutoScraper()\n",
    "result6=scraper.build(amazon_url6,watched_list6)\n",
    "print(result6)"
   ]
  },
  {
   "cell_type": "code",
   "execution_count": null,
   "id": "aeef6d00",
   "metadata": {},
   "outputs": [],
   "source": [
    "amazon_url7=\"https://www.amazon.in/s?k=bags&page=8&crid=2M096C61O4MLT&qid=1675477966&sprefix=ba%2Caps%2C283&ref=sr_pg_8\"\n",
    "watched_list7=[\"₹320\",\"Lify Women's Retro Large Size Canvas Shoulder Bag Hobo Crossbody Handbag Casual Tote - 1 Piece\",\"(1,226)\",\"3.8\"]"
   ]
  },
  {
   "cell_type": "code",
   "execution_count": null,
   "id": "05ef0f34",
   "metadata": {},
   "outputs": [],
   "source": [
    "scraper = AutoScraper()\n",
    "result7=scraper.build(amazon_url7,watched_list7)\n",
    "print(result7)"
   ]
  },
  {
   "cell_type": "code",
   "execution_count": null,
   "id": "25af660d",
   "metadata": {},
   "outputs": [],
   "source": [
    "amazon_url8=\"https://www.amazon.in/s?k=bags&page=9&crid=2M096C61O4MLT&qid=1675478063&sprefix=ba%2Caps%2C283&ref=sr_pg_9\"\n",
    "watched_list8=[\"₹529\",\"AUXTER Red Polyester Avenger Captain America Shield school Bag casual Backpack Daypack\",\"(3,276)\",\"4.4\"]"
   ]
  },
  {
   "cell_type": "markdown",
   "id": "11e24b65",
   "metadata": {},
   "source": []
  },
  {
   "cell_type": "code",
   "execution_count": null,
   "id": "f4f874dd",
   "metadata": {},
   "outputs": [],
   "source": [
    "scraper = AutoScraper()\n",
    "result8=scraper.build(amazon_url8,watched_list8)\n",
    "print(result8)"
   ]
  },
  {
   "cell_type": "code",
   "execution_count": null,
   "id": "d6d02177",
   "metadata": {},
   "outputs": [],
   "source": [
    "amazon_url9=\"https://www.amazon.in/s?k=bags&page=10&crid=2M096C61O4MLT&qid=1675478181&sprefix=ba%2Caps%2C283&ref=sr_pg_10\"\n",
    "watched_list9=[\"₹1,168\",\"F Gear Tycoon 27 Liters Laptop Backpack Sch Bag(Black)\",\"(202)\",\"4.4\"]"
   ]
  },
  {
   "cell_type": "code",
   "execution_count": null,
   "id": "0f7abd57",
   "metadata": {},
   "outputs": [],
   "source": [
    "scraper = AutoScraper()\n",
    "result9=scraper.build(amazon_url9,watched_list9)\n",
    "print(result9)"
   ]
  },
  {
   "cell_type": "code",
   "execution_count": null,
   "id": "925be783",
   "metadata": {},
   "outputs": [],
   "source": [
    "amazon_url10=\"https://www.amazon.in/s?k=bags&page=11&crid=2M096C61O4MLT&qid=1675478315&sprefix=ba%2Caps%2C283&ref=sr_pg_11\"\n",
    "watched_list10=[\"₹193\",\"Nivia 5177RD Polyester String Bag (Red)\",\"(250)\",\"4.0\"]"
   ]
  },
  {
   "cell_type": "code",
   "execution_count": null,
   "id": "18aabed3",
   "metadata": {},
   "outputs": [],
   "source": [
    "scraper = AutoScraper()\n",
    "result10=scraper.build(amazon_url10,watched_list10)\n",
    "print(result10)"
   ]
  },
  {
   "cell_type": "code",
   "execution_count": null,
   "id": "a03582a7",
   "metadata": {},
   "outputs": [],
   "source": [
    "amazon_url11=\"https://www.amazon.in/s?k=bags&page=12&crid=2M096C61O4MLT&qid=1675478432&sprefix=ba%2Caps%2C283&ref=sr_pg_12\"\n",
    "watched_list11=[\"₹189\",\"F Gear String 13 Ltr Gym Bag (Black)\",\"(33)\",\"4.2\"]"
   ]
  },
  {
   "cell_type": "code",
   "execution_count": null,
   "id": "4e963504",
   "metadata": {},
   "outputs": [],
   "source": [
    "scraper = AutoScraper()\n",
    "result11=scraper.build(amazon_url11,watched_list11)\n",
    "print(result11)"
   ]
  },
  {
   "cell_type": "code",
   "execution_count": null,
   "id": "9714323b",
   "metadata": {},
   "outputs": [],
   "source": [
    "amazon_url12=\"https://www.amazon.in/s?k=bags&page=13&crid=2M096C61O4MLT&qid=1675478552&sprefix=ba%2Caps%2C283&ref=sr_pg_13\"\n",
    "watched_list12=[\"₹499\",\"ADISA 15.6 inch Laptop Backpack Office Bag College Travel Back Pack 32 Ltrs BP032 (Teal-Red)\",\"(159)\",\"4.0\"]"
   ]
  },
  {
   "cell_type": "code",
   "execution_count": null,
   "id": "aa440d90",
   "metadata": {},
   "outputs": [],
   "source": [
    "scraper = AutoScraper()\n",
    "result12=scraper.build(amazon_url12,watched_list12)\n",
    "print(result12)"
   ]
  },
  {
   "cell_type": "code",
   "execution_count": null,
   "id": "d275d262",
   "metadata": {},
   "outputs": [],
   "source": [
    "amazon_url13=\"https://www.amazon.in/s?k=bags&page=14&crid=2M096C61O4MLT&qid=1675478638&sprefix=ba%2Caps%2C283&ref=sr_pg_14\"\n",
    "watched_list13=[\"₹259\",\"DEIN KLEIDER Nylon Cross Body Travel Mobile Pouch Sling Messenger Bag for Women\",\"(1,331) \",\"4.2\"]"
   ]
  },
  {
   "cell_type": "code",
   "execution_count": null,
   "id": "2757731c",
   "metadata": {},
   "outputs": [],
   "source": [
    "scraper = AutoScraper()\n",
    "result13=scraper.build(amazon_url13,watched_list13)\n",
    "print(result13)"
   ]
  },
  {
   "cell_type": "code",
   "execution_count": null,
   "id": "c2e66887",
   "metadata": {},
   "outputs": [],
   "source": [
    "amazon_url14=\"https://www.amazon.in/s?k=bags&page=15&crid=2M096C61O4MLT&qid=1675478753&sprefix=ba%2Caps%2C283&ref=sr_pg_15\"\n",
    "watched_list14=[\"₹1,139\",\"F Gear Yakuza Brown 34 liter Laptop Backpack Sch Bag\",\"(794)\",\"4.4\"]"
   ]
  },
  {
   "cell_type": "code",
   "execution_count": null,
   "id": "c953be49",
   "metadata": {},
   "outputs": [],
   "source": [
    "scraper = AutoScraper()\n",
    "result14=scraper.build(amazon_url14,watched_list14)\n",
    "print(result14)"
   ]
  },
  {
   "cell_type": "code",
   "execution_count": null,
   "id": "da0b8efc",
   "metadata": {},
   "outputs": [],
   "source": [
    "amazon_url15=\"https://www.amazon.in/s?k=bags&page=16&crid=2M096C61O4MLT&qid=1675478868&sprefix=ba%2Caps%2C283&ref=sr_pg_16\"\n",
    "watched_list15=[\"₹379\",\"DIVING DEEP Women Backpack Latest School Bag for Girls (Black)\",\"(1,398)\",\"3.3\"]"
   ]
  },
  {
   "cell_type": "code",
   "execution_count": null,
   "id": "742b9c83",
   "metadata": {},
   "outputs": [],
   "source": [
    "scraper = AutoScraper()\n",
    "result15=scraper.build(amazon_url15,watched_list15)\n",
    "print(result15)"
   ]
  },
  {
   "cell_type": "code",
   "execution_count": null,
   "id": "cc826186",
   "metadata": {},
   "outputs": [],
   "source": [
    "amazon_url16=\"https://www.amazon.in/s?k=bags&page=17&crid=2M096C61O4MLT&qid=1675479015&sprefix=ba%2Caps%2C283&ref=sr_pg_17\"\n",
    "watched_list16=[\"₹636\",\"Mammon Women's PU Leather Handbag Combo\",\"(6,912)\",\"3.4\"]"
   ]
  },
  {
   "cell_type": "code",
   "execution_count": null,
   "id": "647fd9b6",
   "metadata": {},
   "outputs": [],
   "source": [
    "scraper = AutoScraper()\n",
    "result16=scraper.build(amazon_url16,watched_list16)\n",
    "print(result16)"
   ]
  },
  {
   "cell_type": "code",
   "execution_count": null,
   "id": "e9d61e2a",
   "metadata": {},
   "outputs": [],
   "source": [
    "amazon_url17=\"https://www.amazon.in/s?k=bags&page=17&crid=2M096C61O4MLT&qid=1675479015&sprefix=ba%2Caps%2C283&ref=sr_pg_18\"\n",
    "watched_list17=[\"₹799\",\"Gear ECO 1 Black Orange Red Laptop Backpack\",\"(1,341) \",\"4.3\"]"
   ]
  },
  {
   "cell_type": "code",
   "execution_count": null,
   "id": "7d3a1bbc",
   "metadata": {},
   "outputs": [],
   "source": [
    "scraper = AutoScraper()\n",
    "result17=scraper.build(amazon_url17,watched_list17)\n",
    "print(result17)"
   ]
  },
  {
   "cell_type": "code",
   "execution_count": null,
   "id": "ba2d5cf6",
   "metadata": {},
   "outputs": [],
   "source": [
    "amazon_url18=\"https://www.amazon.in/s?k=bags&page=19&crid=2M096C61O4MLT&qid=1675479293&sprefix=ba%2Caps%2C283&ref=sr_pg_19\"\n",
    "watched_list18=[\"₹495\",\"ADISA Women Girls Floral Print Sling Bag\",\" (1,175) \",\"4.2\"]"
   ]
  },
  {
   "cell_type": "code",
   "execution_count": null,
   "id": "d5d170b7",
   "metadata": {},
   "outputs": [],
   "source": [
    "scraper = AutoScraper()\n",
    "result18=scraper.build(amazon_url18,watched_list18)\n",
    "print(result18)"
   ]
  },
  {
   "cell_type": "code",
   "execution_count": null,
   "id": "f76bd331",
   "metadata": {},
   "outputs": [],
   "source": [
    "amazon_url19=\"https://www.amazon.in/s?k=bags&page=20&crid=2M096C61O4MLT&qid=1675479411&sprefix=ba%2Caps%2C283&ref=sr_pg_20\"\n",
    "watched_list19=[\"₹1,315\",\"KILLER Polyester Backpack - Checkers 29 Ltr Office Laptop Backpack\",\"(686) \",\"4.3\"]"
   ]
  },
  {
   "cell_type": "code",
   "execution_count": null,
   "id": "78fab761",
   "metadata": {},
   "outputs": [],
   "source": [
    "scraper = AutoScraper()\n",
    "result19=scraper.build(amazon_url19,watched_list19)\n",
    "print(result19)"
   ]
  },
  {
   "cell_type": "code",
   "execution_count": null,
   "id": "4c7e87ba",
   "metadata": {},
   "outputs": [],
   "source": []
  }
 ],
 "metadata": {
  "kernelspec": {
   "display_name": "Python 3 (ipykernel)",
   "language": "python",
   "name": "python3"
  },
  "language_info": {
   "codemirror_mode": {
    "name": "ipython",
    "version": 3
   },
   "file_extension": ".py",
   "mimetype": "text/x-python",
   "name": "python",
   "nbconvert_exporter": "python",
   "pygments_lexer": "ipython3",
   "version": "3.11.1"
  }
 },
 "nbformat": 4,
 "nbformat_minor": 5
}
